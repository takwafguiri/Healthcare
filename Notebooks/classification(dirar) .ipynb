{
 "cells": [
  {
   "cell_type": "code",
   "execution_count": 2,
   "id": "471ca412-644f-49b0-b3fe-d03431d5c00a",
   "metadata": {},
   "outputs": [
    {
     "name": "stdout",
     "output_type": "stream",
     "text": [
      "Requirement already satisfied: pandas in c:\\users\\bdrdi\\anaconda3\\lib\\site-packages (2.2.2)\n",
      "Requirement already satisfied: numpy in c:\\users\\bdrdi\\anaconda3\\lib\\site-packages (1.26.4)\n",
      "Requirement already satisfied: matplotlib in c:\\users\\bdrdi\\anaconda3\\lib\\site-packages (3.9.2)\n",
      "Requirement already satisfied: seaborn in c:\\users\\bdrdi\\anaconda3\\lib\\site-packages (0.13.2)\n",
      "Requirement already satisfied: scikit-learn in c:\\users\\bdrdi\\anaconda3\\lib\\site-packages (1.5.1)\n",
      "Requirement already satisfied: python-dateutil>=2.8.2 in c:\\users\\bdrdi\\anaconda3\\lib\\site-packages (from pandas) (2.9.0.post0)\n",
      "Requirement already satisfied: pytz>=2020.1 in c:\\users\\bdrdi\\anaconda3\\lib\\site-packages (from pandas) (2024.1)\n",
      "Requirement already satisfied: tzdata>=2022.7 in c:\\users\\bdrdi\\anaconda3\\lib\\site-packages (from pandas) (2023.3)\n",
      "Requirement already satisfied: contourpy>=1.0.1 in c:\\users\\bdrdi\\anaconda3\\lib\\site-packages (from matplotlib) (1.2.0)\n",
      "Requirement already satisfied: cycler>=0.10 in c:\\users\\bdrdi\\anaconda3\\lib\\site-packages (from matplotlib) (0.11.0)\n",
      "Requirement already satisfied: fonttools>=4.22.0 in c:\\users\\bdrdi\\anaconda3\\lib\\site-packages (from matplotlib) (4.51.0)\n",
      "Requirement already satisfied: kiwisolver>=1.3.1 in c:\\users\\bdrdi\\anaconda3\\lib\\site-packages (from matplotlib) (1.4.4)\n",
      "Requirement already satisfied: packaging>=20.0 in c:\\users\\bdrdi\\anaconda3\\lib\\site-packages (from matplotlib) (24.1)\n",
      "Requirement already satisfied: pillow>=8 in c:\\users\\bdrdi\\anaconda3\\lib\\site-packages (from matplotlib) (10.4.0)\n",
      "Requirement already satisfied: pyparsing>=2.3.1 in c:\\users\\bdrdi\\anaconda3\\lib\\site-packages (from matplotlib) (3.1.2)\n",
      "Requirement already satisfied: scipy>=1.6.0 in c:\\users\\bdrdi\\anaconda3\\lib\\site-packages (from scikit-learn) (1.13.1)\n",
      "Requirement already satisfied: joblib>=1.2.0 in c:\\users\\bdrdi\\anaconda3\\lib\\site-packages (from scikit-learn) (1.4.2)\n",
      "Requirement already satisfied: threadpoolctl>=3.1.0 in c:\\users\\bdrdi\\anaconda3\\lib\\site-packages (from scikit-learn) (3.5.0)\n",
      "Requirement already satisfied: six>=1.5 in c:\\users\\bdrdi\\anaconda3\\lib\\site-packages (from python-dateutil>=2.8.2->pandas) (1.16.0)\n",
      "Note: you may need to restart the kernel to use updated packages.\n"
     ]
    }
   ],
   "source": [
    "pip install pandas numpy matplotlib seaborn scikit-learn"
   ]
  },
  {
   "cell_type": "code",
   "execution_count": 4,
   "id": "14338b69-13e9-479b-b24f-74b1d5af0a57",
   "metadata": {},
   "outputs": [],
   "source": [
    "import pandas as pd\n",
    "from sqlalchemy import create_engine\n",
    "from sklearn.model_selection import train_test_split\n",
    "from sklearn.preprocessing import LabelEncoder, StandardScaler\n",
    "from sklearn.linear_model import LogisticRegression\n",
    "from sklearn.metrics import accuracy_score, classification_report, confusion_matrix\n",
    "import seaborn as sns\n",
    "import matplotlib.pyplot as plt"
   ]
  },
  {
   "cell_type": "code",
   "execution_count": 6,
   "id": "33e80c8a-3c16-4b24-8973-2c761c26731b",
   "metadata": {},
   "outputs": [
    {
     "name": "stdout",
     "output_type": "stream",
     "text": [
      "   hadm_id admission_type         admission_location        discharge_location\n",
      "0   100375      EMERGENCY  TRANSFER FROM HOSP/EXTRAM                       SNF\n",
      "1   100969      EMERGENCY       EMERGENCY ROOM ADMIT              DEAD/EXPIRED\n",
      "2   101361      EMERGENCY  TRANSFER FROM HOSP/EXTRAM  REHAB/DISTINCT PART HOSP\n",
      "3   103379      EMERGENCY       EMERGENCY ROOM ADMIT          HOME HEALTH CARE\n",
      "4   103770      EMERGENCY       EMERGENCY ROOM ADMIT  REHAB/DISTINCT PART HOSP\n",
      "   subject_id insurance language  religion marital_status  \\\n",
      "0       10006  Medicare           CATHOLIC      SEPARATED   \n",
      "1       10011   Private           CATHOLIC         SINGLE   \n",
      "2       10013  Medicare           CATHOLIC                  \n",
      "3       10017  Medicare           CATHOLIC       DIVORCED   \n",
      "4       10019  Medicare           CATHOLIC       DIVORCED   \n",
      "\n",
      "                ethnicity  \n",
      "0  BLACK/AFRICAN AMERICAN  \n",
      "1   UNKNOWN/NOT SPECIFIED  \n",
      "2   UNKNOWN/NOT SPECIFIED  \n",
      "3                   WHITE  \n",
      "4                   WHITE  \n"
     ]
    }
   ],
   "source": [
    "import pandas as pd\n",
    "from sqlalchemy import create_engine\n",
    "\n",
    "# Paramètres pour la connexion à SQL Server\n",
    "server = 'DIRAR'\n",
    "database = 'DATA WAREHOUSE'\n",
    "username = 'sa'\n",
    "password = 'azerty123'\n",
    "\n",
    "# Création du moteur SQLAlchemy pour SQL Server\n",
    "engine = create_engine(\n",
    "    f'mssql+pyodbc://{username}:{password}@{server}/{database}?driver=ODBC+Driver+17+for+SQL+Server'\n",
    ")\n",
    "\n",
    "# Charger les tables nécessaires dans des DataFrames pandas\n",
    "dim_admission = pd.read_sql(\"SELECT * FROM dim_admission\", engine)\n",
    "dim_patients = pd.read_sql(\"SELECT * FROM dim_patients\", engine)\n",
    "dim_doctor = pd.read_sql(\"SELECT * FROM dim_doctor\", engine)\n",
    "dim_reclamation = pd.read_sql(\"SELECT * FROM dim_reclamation\", engine)\n",
    "dim_temps = pd.read_sql(\"SELECT * FROM dim_temps\", engine)\n",
    "satisfaction_fact = pd.read_sql(\"SELECT * FROM satisfaction_fact\", engine)\n",
    "\n",
    "# Affichage de quelques lignes pour vérifier\n",
    "print(dim_admission.head())\n",
    "print(dim_patients.head())"
   ]
  },
  {
   "cell_type": "code",
   "execution_count": 8,
   "id": "6efbe710-8688-4c7b-97ae-e22c6f10d956",
   "metadata": {},
   "outputs": [
    {
     "name": "stdout",
     "output_type": "stream",
     "text": [
      "First few rows of satisfaction_fact:\n",
      "  Reclamation_ID  Resolution_Duration_Days\n",
      "0           rec1                        15\n",
      "1          rec10                        12\n",
      "2          rec11                        18\n",
      "3          rec12                        26\n",
      "4          rec13                        22\n",
      "\n",
      "First few rows of dim_reclamation:\n",
      "  Reclamation_ID    Status\n",
      "0           rec1  Resolved\n",
      "1          rec10  Resolved\n",
      "2          rec11  Resolved\n",
      "3          rec12   Pending\n",
      "4          rec13   Pending\n"
     ]
    }
   ],
   "source": [
    "satisfaction_fact = pd.read_sql(\"SELECT Reclamation_ID, Resolution_Duration_Days FROM satisfaction_fact\", engine)\n",
    "dim_reclamation = pd.read_sql(\"SELECT Reclamation_ID, Status FROM dim_reclamation\", engine)\n",
    "\n",
    "print(\"First few rows of satisfaction_fact:\")\n",
    "print(satisfaction_fact.head())\n",
    "print(\"\\nFirst few rows of dim_reclamation:\")\n",
    "print(dim_reclamation.head())"
   ]
  },
  {
   "cell_type": "code",
   "execution_count": 12,
   "id": "de4473cc-7ae3-474e-ad40-89d2f965d9f8",
   "metadata": {},
   "outputs": [
    {
     "name": "stdout",
     "output_type": "stream",
     "text": [
      "\n",
      "First few rows of the merged DataFrame:\n",
      "  Reclamation_ID  Resolution_Duration_Days    Status\n",
      "0           rec1                        15  Resolved\n",
      "1          rec10                        12  Resolved\n",
      "2          rec11                        18  Resolved\n",
      "3          rec12                        26   Pending\n",
      "4          rec13                        22   Pending\n"
     ]
    }
   ],
   "source": [
    "merged_df = pd.merge(satisfaction_fact, dim_reclamation, on='Reclamation_ID', how='inner')\n",
    "print(\"\\nFirst few rows of the merged DataFrame:\")\n",
    "print(merged_df.head())"
   ]
  },
  {
   "cell_type": "code",
   "execution_count": 14,
   "id": "321c6bb2-92ce-4495-b24a-cd04e7053c03",
   "metadata": {},
   "outputs": [
    {
     "name": "stdout",
     "output_type": "stream",
     "text": [
      "\n",
      "DataFrame with encoded Status:\n",
      "   Resolution_Duration_Days    Status  Status_Encoded\n",
      "0                        15  Resolved               1\n",
      "1                        12  Resolved               1\n",
      "2                        18  Resolved               1\n",
      "3                        26   Pending               0\n",
      "4                        22   Pending               0\n",
      "\n",
      "Unique values in Status and their encodings:\n",
      "{'Pending': 0, 'Resolved': 1}\n"
     ]
    }
   ],
   "source": [
    "df_status = merged_df[['Resolution_Duration_Days', 'Status']].copy()\n",
    "df_status.dropna(inplace=True)\n",
    "\n",
    "# Encode the 'Status' column\n",
    "label_encoder = LabelEncoder()\n",
    "df_status['Status_Encoded'] = label_encoder.fit_transform(df_status['Status'])\n",
    "\n",
    "print(\"\\nDataFrame with encoded Status:\")\n",
    "print(df_status.head())\n",
    "print(\"\\nUnique values in Status and their encodings:\")\n",
    "print(dict(zip(label_encoder.classes_, label_encoder.transform(label_encoder.classes_))))"
   ]
  },
  {
   "cell_type": "code",
   "execution_count": 16,
   "id": "de0da70c-ceb0-4ea4-84ec-d85e4c443fce",
   "metadata": {},
   "outputs": [
    {
     "name": "stdout",
     "output_type": "stream",
     "text": [
      "\n",
      "Shape of X_train: (16, 1)\n",
      "Shape of X_test: (4, 1)\n",
      "Shape of y_train: (16,)\n",
      "Shape of y_test: (4,)\n"
     ]
    }
   ],
   "source": [
    "X = df_status[['Resolution_Duration_Days']]\n",
    "y = df_status['Status_Encoded']\n",
    "\n",
    "X_train, X_test, y_train, y_test = train_test_split(X, y, test_size=0.2, random_state=42)\n",
    "\n",
    "print(f\"\\nShape of X_train: {X_train.shape}\")\n",
    "print(f\"Shape of X_test: {X_test.shape}\")\n",
    "print(f\"Shape of y_train: {y_train.shape}\")\n",
    "print(f\"Shape of y_test: {y_test.shape}\")"
   ]
  },
  {
   "cell_type": "code",
   "execution_count": 18,
   "id": "eb259fa5-9b32-4c77-a2c2-645af990cf4a",
   "metadata": {},
   "outputs": [],
   "source": [
    "scaler = StandardScaler()\n",
    "X_train_scaled = scaler.fit_transform(X_train)\n",
    "X_test_scaled = scaler.transform(X_test)"
   ]
  },
  {
   "cell_type": "code",
   "execution_count": 20,
   "id": "244a5ba6-449c-444f-8a67-e5d64d7bc5f2",
   "metadata": {},
   "outputs": [],
   "source": [
    "model = LogisticRegression(random_state=42)\n",
    "model.fit(X_train_scaled, y_train)\n",
    "\n",
    "y_pred_encoded = model.predict(X_test_scaled)\n",
    "y_pred = label_encoder.inverse_transform(y_pred_encoded)\n",
    "y_test_original = label_encoder.inverse_transform(y_test)"
   ]
  },
  {
   "cell_type": "code",
   "execution_count": 22,
   "id": "299c790a-eb20-4554-9c09-74ad49f33bae",
   "metadata": {},
   "outputs": [
    {
     "name": "stdout",
     "output_type": "stream",
     "text": [
      "\n",
      "--- Classification Report (Predicting Status by Resolution Duration) ---\n",
      "Accuracy: 0.75\n",
      "\n",
      "Classification Report:\n",
      "              precision    recall  f1-score   support\n",
      "\n",
      "     Pending       0.00      0.00      0.00         0\n",
      "    Resolved       1.00      0.75      0.86         4\n",
      "\n",
      "    accuracy                           0.75         4\n",
      "   macro avg       0.50      0.38      0.43         4\n",
      "weighted avg       1.00      0.75      0.86         4\n",
      "\n"
     ]
    },
    {
     "name": "stderr",
     "output_type": "stream",
     "text": [
      "C:\\Users\\bdrdi\\anaconda3\\Lib\\site-packages\\sklearn\\metrics\\_classification.py:1531: UndefinedMetricWarning: Recall is ill-defined and being set to 0.0 in labels with no true samples. Use `zero_division` parameter to control this behavior.\n",
      "  _warn_prf(average, modifier, f\"{metric.capitalize()} is\", len(result))\n",
      "C:\\Users\\bdrdi\\anaconda3\\Lib\\site-packages\\sklearn\\metrics\\_classification.py:1531: UndefinedMetricWarning: Recall is ill-defined and being set to 0.0 in labels with no true samples. Use `zero_division` parameter to control this behavior.\n",
      "  _warn_prf(average, modifier, f\"{metric.capitalize()} is\", len(result))\n",
      "C:\\Users\\bdrdi\\anaconda3\\Lib\\site-packages\\sklearn\\metrics\\_classification.py:1531: UndefinedMetricWarning: Recall is ill-defined and being set to 0.0 in labels with no true samples. Use `zero_division` parameter to control this behavior.\n",
      "  _warn_prf(average, modifier, f\"{metric.capitalize()} is\", len(result))\n"
     ]
    },
    {
     "data": {
      "image/png": "[encoded data removed]",
      "text/plain": [
       "<Figure size 600x400 with 2 Axes>"
      ]
     },
     "metadata": {},
     "output_type": "display_data"
    }
   ],
   "source": [
    "accuracy = accuracy_score(y_test_original, y_pred)\n",
    "print(\"\\n--- Classification Report (Predicting Status by Resolution Duration) ---\")\n",
    "print(f'Accuracy: {accuracy}')\n",
    "print(\"\\nClassification Report:\")\n",
    "print(classification_report(y_test_original, y_pred))\n",
    "\n",
    "# Confusion Matrix\n",
    "cm = confusion_matrix(y_test_original, y_pred)\n",
    "plt.figure(figsize=(6, 4))\n",
    "sns.heatmap(cm, annot=True, fmt='d', cmap='Blues',\n",
    "            xticklabels=label_encoder.classes_, yticklabels=label_encoder.classes_)\n",
    "plt.xlabel('Predicted Status')\n",
    "plt.ylabel('Actual Status')\n",
    "plt.title('Confusion Matrix')\n",
    "plt.show()"
   ]
  },
  {
   "cell_type": "code",
   "execution_count": null,
   "id": "886ba1f2-62f2-45c0-8687-621e331782c9",
   "metadata": {},
   "outputs": [],
   "source": []
  }
 ],
 "metadata": {
  "kernelspec": {
   "display_name": "Python [conda env:base] *",
   "language": "python",
   "name": "conda-base-py"
  },
  "language_info": {
   "codemirror_mode": {
    "name": "ipython",
    "version": 3
   },
   "file_extension": ".py",
   "mimetype": "text/x-python",
   "name": "python",
   "nbconvert_exporter": "python",
   "pygments_lexer": "ipython3",
   "version": "3.12.7"
  }
 },
 "nbformat": 4,
 "nbformat_minor": 5
}
